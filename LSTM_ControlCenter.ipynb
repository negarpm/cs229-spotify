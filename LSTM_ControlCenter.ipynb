{
 "cells": [
  {
   "cell_type": "code",
   "execution_count": null,
   "metadata": {},
   "outputs": [],
   "source": [
    "def evaluate_mean_average_accuracy(y_truth, y_pred):\n",
    "    matches = [x == y for (x,y) in zip(y_truth, y_pred)]\n",
    "    num_correct = 0\n",
    "    length = len(matches)\n",
    "    summ = 0\n",
    "    for i in range(length):\n",
    "        if matches[i] == 1:\n",
    "            num_correct += 1\n",
    "            summ += (num_correct / (i+1)) / length\n",
    "    return summ"
   ]
  },
  {
   "cell_type": "code",
   "execution_count": null,
   "metadata": {},
   "outputs": [],
   "source": [
    "import torch\n",
    "import torch.nn as nn\n",
    "from torch.utils.data import DataLoader\n",
    "from models.LSTMEncoderDecoder import LSTMEncoderDecoder\n",
    "\n",
    "device = torch.device(\"cuda\" if torch.cuda.is_available() else \"cpu\")\n",
    "MODEL_PATH = \"./models/lstm_encoder_decoder_1.pt\""
   ]
  },
  {
   "cell_type": "code",
   "execution_count": null,
   "metadata": {},
   "outputs": [],
   "source": [
    "from data.SpotifyDataset import SpotifyDataset\n",
    "\n",
    "train_set = SpotifyDataset(\"./data/train_data.csv\", \"./data/track_feats.csv\")\n",
    "val_set = SpotifyDataset(\"./data/val_data.csv\", \"./data/track_feats.csv\")\n",
    "test_set = SpotifyDataset(\"./data/test_data.csv\", \"./data/track_feats.csv\")\n",
    "\n",
    "datasets = {\"train\": train_set,\n",
    "            \"val\": val_set,\n",
    "            \"test\": test_set}"
   ]
  },
  {
   "cell_type": "code",
   "execution_count": null,
   "metadata": {},
   "outputs": [],
   "source": [
    "### TRAINING BLOC:\n",
    "model = LSTMEncoderDecoder(encode_size=67, decode_size=29).to(device)\n",
    "loss_fn = nn.CrossEntropyLoss()\n",
    "\n",
    "learning_rate = 1e-3\n",
    "weight_decay = 2.5e-3\n",
    "optimizer = torch.optim.Adam(model.parameters(), lr=learning_rate, betas=(0.9, 0.999), weight_decay=weight_decay)\n",
    "\n",
    "num_epochs = 1\n",
    "best_maa = 0\n",
    "losses = []\n",
    "epoch_losses = []\n",
    "for epoch in range(num_epochs):\n",
    "    print('Epoch {}/{}'.format(epoch+1, num_epochs))\n",
    "    for phase in ['train', 'val']:\n",
    "        print(\"Running {} phase...\".format(phase))\n",
    "        total_maa = []\n",
    "        total_loss = []\n",
    "        dataloader = DataLoader(datasets[phase], batch_size=1, shuffle=True)\n",
    "        for i, (X_encode, X_decode, y) in enumerate(dataloader):\n",
    "            if i % 25 == 0:\n",
    "                print(\"Calculating example {} / {}\".format(i, len(dataloader)))\n",
    "            X_encode, X_decode, y = X_encode.to(device), X_decode.to(device), y.squeeze().to(device)\n",
    "            if phase == 'train':\n",
    "                model.train()\n",
    "                scores = model(X_encode, X_decode).squeeze()\n",
    "                loss = loss_fn(scores, y)\n",
    "                loss.backward()\n",
    "                optimizer.step()\n",
    "                optimizer.zero_grad()\n",
    "                total_loss.append(loss)\n",
    "                losses.append(loss.item())\n",
    "            else:\n",
    "                model.eval()\n",
    "                scores = model(X_encode, X_decode).squeeze()\n",
    "                y_pred = torch.argmax(scores, dim=1)\n",
    "                maa = evaluate_mean_average_accuracy(y, y_pred)\n",
    "                total_maa.append(maa)\n",
    "        if phase == 'train':\n",
    "            epoch_loss = sum(total_loss) / len(total_loss)\n",
    "            print(\"Epoch {} Avg. Loss: {}\".format(epoch, epoch_loss))\n",
    "            epoch_losses.append(epoch_loss.item())\n",
    "        else:\n",
    "            epoch_maa = sum(total_maa) / len(total_maa)\n",
    "            print(\"Epoch {} Avg. MAA: {}, Best MAA: {}\".format(epoch, epoch_maa, best_maa))\n",
    "            if epoch_maa > best_maa:\n",
    "                torch.save(model.state_dict(), MODEL_PATH)\n",
    "                best_maa = epoch_maa\n",
    "    print()\n",
    "print()\n",
    "print(\"List of avg. loss across epochs: \")\n",
    "print(epoch_losses)\n",
    "print(\"List of losses across batches: \")\n",
    "print(losses)"
   ]
  },
  {
   "cell_type": "code",
   "execution_count": null,
   "metadata": {},
   "outputs": [],
   "source": [
    "### TESTING BLOCK\n",
    "test_model = LSTMEncoderDecoder(encode_size=67, decode_size=29).to(device)\n",
    "test_model.load_state_dict(torch.load(MODEL_PATH))\n",
    "\n",
    "with torch.no_grad():\n",
    "    dataloader = DataLoader(datasets[\"test\"], batch_size=1, shuffle=False)\n",
    "    total_maa = []\n",
    "    for i, (X_encode, X_decode, labels) in enumerate(dataloader):\n",
    "        X_encode, X_decode, y = X_encode.to(device), X_decode.to(device), y.squeeze().to(device)\n",
    "        scores = test_model(X_encode, X_decode).squeeze()\n",
    "        y_pred = torch.argmax(scores, dim=1)\n",
    "        maa = evaluate_mean_average_accuracy(y, y_pred)\n",
    "        total_maa.append(maa)\n",
    "    print(\"Average MAA over test set: {}\".format(sum(total_maa) / len(total_maa)))"
   ]
  },
  {
   "cell_type": "code",
   "execution_count": null,
   "metadata": {},
   "outputs": [],
   "source": []
  }
 ],
 "metadata": {
  "kernelspec": {
   "display_name": "Python 3",
   "language": "python",
   "name": "python3"
  },
  "language_info": {
   "codemirror_mode": {
    "name": "ipython",
    "version": 3
   },
   "file_extension": ".py",
   "mimetype": "text/x-python",
   "name": "python",
   "nbconvert_exporter": "python",
   "pygments_lexer": "ipython3",
   "version": "3.7.4"
  }
 },
 "nbformat": 4,
 "nbformat_minor": 2
}
