{
 "cells": [
  {
   "cell_type": "code",
   "execution_count": 1,
   "metadata": {},
   "outputs": [],
   "source": [
    "import csv\n",
    "\n",
    "import torch\n",
    "import torch.nn as nn\n",
    "from torch.utils.data import DataLoader\n",
    "from models.TransformerEncoderDecoder import TransformerModel"
   ]
  },
  {
   "cell_type": "code",
   "execution_count": 2,
   "metadata": {},
   "outputs": [],
   "source": [
    "EPOCH_LOSSES_SAVEPATH = \"./models/transformer_epoch_losses.csv\"\n",
    "BATCH_LOSSES_SAVEPATH = \"./models/transformer_batch_losses.csv\"\n",
    "\n",
    "def save_list_to_csv(lst, filename):\n",
    "    with open(filename, 'w', newline='') as file:\n",
    "        wr = csv.writer(file)\n",
    "        wr.writerow(lst)\n",
    "\n",
    "def evaluate_batch_mean_average_accuracy(y_truth, y_pred):\n",
    "    matches = [x == y for (x,y) in zip(y_truth, y_pred)]\n",
    "    maas = []\n",
    "    for batch in range(0, len(matches), 10):\n",
    "        num_correct = 0\n",
    "        summ = 0\n",
    "        for i in range(0, 10):\n",
    "            if matches[batch+i] == 1:\n",
    "                num_correct += 1\n",
    "                summ += (num_correct / (i+1)) / 10\n",
    "        maas.append(summ)\n",
    "    return sum(maas) / len(maas)\n",
    "\n",
    "device = torch.device(\"cuda\" if torch.cuda.is_available() else \"cpu\")\n",
    "MODEL_PATH = \"./models/transformer_encoder_decoder_1.pt\"\n",
    "\n",
    "from data.SpotifyDataset import SpotifyDataset\n",
    "\n",
    "train_set = SpotifyDataset(\"./data/train_data_20.csv\", \"./data/track_feats.csv\")\n",
    "val_set = SpotifyDataset(\"./data/val_data_20.csv\", \"./data/track_feats.csv\")\n",
    "test_set = SpotifyDataset(\"./data/test_data_20.csv\", \"./data/track_feats.csv\")\n",
    "\n",
    "datasets = {\"train\": train_set,\n",
    "            \"val\": val_set,\n",
    "            \"test\": test_set}"
   ]
  },
  {
   "cell_type": "code",
   "execution_count": 3,
   "metadata": {},
   "outputs": [],
   "source": [
    "#len(train_set.shape)"
   ]
  },
  {
   "cell_type": "markdown",
   "metadata": {},
   "source": [
    "### TRAINING BLOCK"
   ]
  },
  {
   "cell_type": "code",
   "execution_count": null,
   "metadata": {},
   "outputs": [
    {
     "name": "stdout",
     "output_type": "stream",
     "text": [
      "Epoch 1/3\n",
      "Running train phase...\n",
      "Calculating batch 0 / 924\n",
      "torch.Size([64, 10, 30]) torch.Size([64, 10, 68]) torch.Size([64, 10, 1])\n",
      "torch.Size([64, 10, 30]) torch.Size([64, 10, 68]) torch.Size([64, 10, 1])\n",
      "torch.Size([64, 10, 30]) torch.Size([64, 10, 68]) torch.Size([64, 10, 1])\n",
      "torch.Size([64, 10, 30]) torch.Size([64, 10, 68]) torch.Size([64, 10, 1])\n"
     ]
    }
   ],
   "source": [
    "nlabels = 2 # the size of vocabulary\n",
    "n_input1 = 68 # embedding dimension\n",
    "n_input2 = 30 # the dimension of the feedforward network model in nn.TransformerEncoder\n",
    "nlayers = 2 # the number of nn.TransformerEncoderLayer in nn.TransformerEncoder\n",
    "nhid = 256\n",
    "nhead = 2 # the number of heads in the multiheadattention models\n",
    "dropout = 0.2 # the dropout value\n",
    "\n",
    "model = TransformerModel(nlabels, n_input1, n_input2, nhead, nhid, nlayers, dropout=0.5, ).to(device)\n",
    "loss_fn = nn.CrossEntropyLoss()\n",
    "\n",
    "batch_size = 64\n",
    "learning_rate = 1e-3\n",
    "weight_decay = 2.5e-3\n",
    "optimizer = torch.optim.Adam(model.parameters(), lr=learning_rate, betas=(0.9, 0.999), weight_decay=weight_decay)\n",
    "\n",
    "num_epochs = 3\n",
    "best_maa = 0\n",
    "batch_losses = []\n",
    "epoch_losses = []\n",
    "for epoch in range(num_epochs):\n",
    "    print('Epoch {}/{}'.format(epoch+1, num_epochs))\n",
    "    for phase in ['train', 'val']:\n",
    "        print(\"Running {} phase...\".format(phase))\n",
    "        total_maa = []\n",
    "        total_loss = []\n",
    "        dataloader = DataLoader(datasets[phase], batch_size=batch_size, shuffle=True, num_workers=2)\n",
    "        for i, (X_encode, X_decode, y) in enumerate(dataloader):\n",
    "            if i > 50:\n",
    "                break\n",
    "            if i % 10 == 0:\n",
    "                print(\"Calculating batch {} / {}\".format(i, len(dataloader)))\n",
    "            print(X_decode.shape, X_encode.shape, y.shape)\n",
    "            X_encode, X_decode, y = X_encode.to(device), X_decode.to(device), y.to(device)\n",
    "            if phase == 'train':\n",
    "                model.train()\n",
    "                scores = model(X_encode, X_decode).flatten(start_dim=0, end_dim=1)\n",
    "                labels = y.flatten(start_dim=0, end_dim=1).squeeze()\n",
    "                loss = loss_fn(scores, labels)\n",
    "                loss.backward()\n",
    "                optimizer.step()\n",
    "                optimizer.zero_grad()\n",
    "                total_loss.append(loss)\n",
    "                batch_losses.append(loss.item())\n",
    "            else:\n",
    "                model.eval()\n",
    "                scores = model(X_encode, X_decode).flatten(start_dim=0, end_dim=1)\n",
    "                labels = y.flatten(start_dim=0, end_dim=1).squeeze()\n",
    "                y_pred = torch.argmax(scores, dim=1)\n",
    "                maa = evaluate_batch_mean_average_accuracy(labels, y_pred)\n",
    "                total_maa.append(maa)\n",
    "        if phase == 'train':\n",
    "            epoch_loss = sum(total_loss) / len(total_loss)\n",
    "            print(\"Epoch {} Avg. Loss: {}\".format(epoch, epoch_loss))\n",
    "            epoch_losses.append(epoch_loss.item())\n",
    "        else:\n",
    "            epoch_maa = sum(total_maa) / len(total_maa)\n",
    "            print(\"Epoch {} Avg. MAA: {}, Best MAA: {}\".format(epoch, epoch_maa, best_maa))\n",
    "            if epoch_maa > best_maa:\n",
    "                torch.save(model.state_dict(), MODEL_PATH)\n",
    "                best_maa = epoch_maa\n",
    "    print()\n",
    "print()\n",
    "print(\"List of avg. loss across epochs: \")\n",
    "print(epoch_losses)\n",
    "save_list_to_csv(epoch_losses, EPOCH_LOSSES_SAVEPATH)\n",
    "print(\"List of losses across batches: \")\n",
    "print(batch_losses)\n",
    "save_list_to_csv(batch_losses, BATCH_LOSSES_SAVEPATH)\n"
   ]
  },
  {
   "cell_type": "markdown",
   "metadata": {},
   "source": [
    "### TESTING BLOCK"
   ]
  },
  {
   "cell_type": "code",
   "execution_count": null,
   "metadata": {},
   "outputs": [],
   "source": [
    "test_model = TransformerModel(encode_size=68, decode_size=30).to(device)\n",
    "test_model.load_state_dict(torch.load(MODEL_PATH))\n",
    "\n",
    "with torch.no_grad():\n",
    "    dataloader = DataLoader(datasets[\"test\"], batch_size=batch_size, shuffle=False, num_workers=2)\n",
    "    total_maa = []\n",
    "    for i, (X_encode, X_decode, labels) in enumerate(dataloader):\n",
    "        X_encode, X_decode, y = X_encode.to(device), X_decode.to(device), y.to(device)\n",
    "        labels = y.flatten(start_dim=0, end_dim=1).squeeze()\n",
    "        scores = test_model(X_encode, X_decode).flatten(start_dim=0, end_dim=1)\n",
    "        y_pred = torch.argmax(scores, dim=1)\n",
    "        maa = evaluate_batch_mean_average_accuracy(labels, y_pred)\n",
    "        total_maa.append(maa)\n",
    "    print(\"Average batch MAA over test set: {}\".format(sum(total_maa) / len(total_maa)))"
   ]
  },
  {
   "cell_type": "code",
   "execution_count": null,
   "metadata": {},
   "outputs": [],
   "source": []
  }
 ],
 "metadata": {
  "kernelspec": {
   "display_name": "Python 3",
   "language": "python",
   "name": "python3"
  },
  "language_info": {
   "codemirror_mode": {
    "name": "ipython",
    "version": 3
   },
   "file_extension": ".py",
   "mimetype": "text/x-python",
   "name": "python",
   "nbconvert_exporter": "python",
   "pygments_lexer": "ipython3",
   "version": "3.7.4"
  }
 },
 "nbformat": 4,
 "nbformat_minor": 2
}
